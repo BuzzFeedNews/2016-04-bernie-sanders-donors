{
 "cells": [
  {
   "cell_type": "markdown",
   "metadata": {},
   "source": [
    "# Analysis of Bernie Sanders's ActBlue Donors\n",
    "\n",
    "The code below analyzes campaign finance filings from ActBlue, a political action committee that processes the vast majority of contributions to Bernie Sanders's 2016 presidential campaign. For more details, read on."
   ]
  },
  {
   "cell_type": "code",
   "execution_count": 1,
   "metadata": {
    "collapsed": false
   },
   "outputs": [],
   "source": [
    "import pandas as pd\n",
    "import matplotlib as mpl\n",
    "import us"
   ]
  },
  {
   "cell_type": "code",
   "execution_count": 2,
   "metadata": {
    "collapsed": false
   },
   "outputs": [],
   "source": [
    "%matplotlib inline"
   ]
  },
  {
   "cell_type": "markdown",
   "metadata": {},
   "source": [
    "## Loading The Data"
   ]
  },
  {
   "cell_type": "markdown",
   "metadata": {},
   "source": [
    "The code below loads ActBlue's `PRE-RUNOFF`, `POST-SPECIAL`, `PRE-PRIMARY`, `POST-RUN-OFF`, `MID-YEAR`, `YEAR-END`, `FEB MONTHLY`, and `MARCH MONTHLY` filings sent to the Federal Election Commission. These filings cover the entirety of the Sanders presidential campaign, which began on April 30, 2015.\n",
    "\n",
    "The data include all \"receipts\" for this time period, and were downloaded from ProPublica's [FEC Itemizer](https://projects.propublica.org/itemizer/committee/C00401224/2016). Some rows in the files contained unmatched quotation marks (e.g., `\"NOT EMPLOYED,`) in the `employer` field. BuzzFeed News fixed those rows by hand; because the cleaned-up files are large, you can download them [here](https://archive.org/details/actblue-fec-filings-april-2015-to-feb-2016).\n",
    "\n",
    "*Note:* The Sanders campaign receives contributions through channels other than ActBlue, but ActBlue contributions account for approximately 82% of contributions to the campaign so far."
   ]
  },
  {
   "cell_type": "code",
   "execution_count": 3,
   "metadata": {
    "collapsed": true
   },
   "outputs": [],
   "source": [
    "files = [\n",
    "    \"../data/actblue-filings/sa1034155.csv\",\n",
    "    \"../data/actblue-filings/sa1047732.csv\",\n",
    "    \"../data/actblue-filings/sa1051660.csv\",\n",
    "    \"../data/actblue-filings/sa1056917.csv\",\n",
    "    \"../data/actblue-filings/sa1024737.csv\",\n",
    "    \"../data/actblue-filings/sa1033935.csv\",\n",
    "    \"../data/actblue-filings/sa1034000.csv\",\n",
    "    \"../data/actblue-filings/sa1034148.csv\",\n",
    "    \"../data/actblue-filings/sa1056899.csv\"\n",
    "]"
   ]
  },
  {
   "cell_type": "code",
   "execution_count": 4,
   "metadata": {
    "collapsed": true
   },
   "outputs": [],
   "source": [
    "def parse_filing(path):\n",
    "    dtype={\n",
    "        \"pac_name\": str,\n",
    "        \"first_name\": str,\n",
    "        \"last_name\": str,\n",
    "        \"middle_name\": str,\n",
    "        \"prefix\": str,\n",
    "        \"suffix\": str,\n",
    "        \"address_two\": str,\n",
    "        \"zip\": str,\n",
    "        \"employer\": str,\n",
    "        \"occupation\": str,\n",
    "        \"memo_code\": str,\n",
    "        \"memo_text\": str\n",
    "    }\n",
    "    return pd.read_csv(path, parse_dates=[\"date\"], dtype=dtype)"
   ]
  },
  {
   "cell_type": "code",
   "execution_count": 5,
   "metadata": {
    "collapsed": false
   },
   "outputs": [],
   "source": [
    "all_act_blue = pd.concat([ parse_filing(filepath) for filepath in files ])"
   ]
  },
  {
   "cell_type": "code",
   "execution_count": 6,
   "metadata": {
    "collapsed": false
   },
   "outputs": [
    {
     "data": {
      "text/plain": [
       "Earmarked for BERNIE 2016 (C00577130)                                      4195727\n",
       "Refund of contribution, initially earmarked for BERNIE 2016 (C00577130)       8451\n",
       "Name: memo_text, dtype: int64"
      ]
     },
     "execution_count": 6,
     "metadata": {},
     "output_type": "execute_result"
    }
   ],
   "source": [
    "all_act_blue[\n",
    "    all_act_blue[\"memo_text\"].str.contains(\"BERNIE 2016\", na=False)\n",
    "][\"memo_text\"].value_counts()"
   ]
  },
  {
   "cell_type": "code",
   "execution_count": 7,
   "metadata": {
    "collapsed": false
   },
   "outputs": [],
   "source": [
    "bernie = all_act_blue[\n",
    "    all_act_blue[\"memo_text\"] == \"Earmarked for BERNIE 2016 (C00577130)\"\n",
    "].copy()"
   ]
  },
  {
   "cell_type": "code",
   "execution_count": 8,
   "metadata": {
    "collapsed": false
   },
   "outputs": [
    {
     "name": "stdout",
     "output_type": "stream",
     "text": [
      "Between April 30, 2015 and Feb. 29, 2016, the Sanders campaign received \n",
      "$112,718,405 in contribtions via ActBlue.\n"
     ]
    }
   ],
   "source": [
    "print(\"\"\"Between April 30, 2015 and Feb. 29, 2016, the Sanders campaign received \n",
    "${0:,.0f} in contribtions via ActBlue.\"\"\".format(bernie[\"amount\"].sum().round()))"
   ]
  },
  {
   "cell_type": "code",
   "execution_count": 9,
   "metadata": {
    "collapsed": true
   },
   "outputs": [],
   "source": [
    "bernie_refunds = all_act_blue[\n",
    "    all_act_blue[\"memo_text\"] == \"Refund of contribution, initially earmarked for BERNIE 2016 (C00577130)\"\n",
    "]"
   ]
  },
  {
   "cell_type": "code",
   "execution_count": 10,
   "metadata": {
    "collapsed": false
   },
   "outputs": [
    {
     "name": "stdout",
     "output_type": "stream",
     "text": [
      "Between April 30, 2015 and Feb. 29, 2016, ActBlue has refunded $1,099,201 of those contributions.\n"
     ]
    }
   ],
   "source": [
    "print(\"\"\"Between April 30, 2015 and Feb. 29, 2016, ActBlue has refunded ${0:,.0f} of those contributions.\"\"\"\\\n",
    "      .format(-bernie_refunds[\"amount\"].sum().round()))"
   ]
  },
  {
   "cell_type": "markdown",
   "metadata": {},
   "source": [
    "This analysis ignores contribution refunds, for two reasons: (a) they're a small percentage of the overall contributions, and (b) this analysis is more concerned with the *act of giving* rather than the totals contributed. Furthermore, the way in which campaigns and committees refund contributions does not make clear *which* of a donor's contributions they are refunding."
   ]
  },
  {
   "cell_type": "code",
   "execution_count": 11,
   "metadata": {
    "collapsed": false
   },
   "outputs": [
    {
     "data": {
      "text/plain": [
       "'The data here encompasses ActBlue donations to Bernie 2016 between 2015-04-30 00:00:00 and 2016-02-29 00:00:00.'"
      ]
     },
     "execution_count": 11,
     "metadata": {},
     "output_type": "execute_result"
    }
   ],
   "source": [
    "\"The data here encompasses ActBlue donations to Bernie 2016 between {0} and {1}.\"\\\n",
    "    .format(bernie.date.min(), bernie.date.max())"
   ]
  },
  {
   "cell_type": "markdown",
   "metadata": {},
   "source": [
    "## Assigning Pseudo-IDs to Each Donor\n",
    "\n",
    "FEC campaign filings do not assign any unique identifiers to donors. To be able to distinguish and track individual donors, the code below assigns each contribution a `donor_uid` based on the donor's first name, last name, and ZIP code. This approach could result an undercount of donors if, for instance, there are two people named John Smith in a same ZIP code — but should result in good approximations for the analyses below."
   ]
  },
  {
   "cell_type": "code",
   "execution_count": 12,
   "metadata": {
    "collapsed": false
   },
   "outputs": [],
   "source": [
    "donor_uid_cols = [\"first_name\", \"last_name\", \"zip\"]\n",
    "bernie[\"donor_uid\"] = bernie[donor_uid_cols].fillna(\"\").apply(\"|\".join, axis=1)"
   ]
  },
  {
   "cell_type": "markdown",
   "metadata": {},
   "source": [
    "## Counting The Number of Individual Donors"
   ]
  },
  {
   "cell_type": "code",
   "execution_count": 13,
   "metadata": {
    "collapsed": false
   },
   "outputs": [],
   "source": [
    "indivs = bernie\\\n",
    "    .sort_values(\"aggregate_amount\", ascending=False)\\\n",
    "    .drop_duplicates(subset=\"donor_uid\")"
   ]
  },
  {
   "cell_type": "code",
   "execution_count": 14,
   "metadata": {
    "collapsed": false
   },
   "outputs": [
    {
     "data": {
      "text/plain": [
       "'Approximately 1,509,688 people have contributed to the Bernie Sanders campaign through ActBlue.'"
      ]
     },
     "execution_count": 14,
     "metadata": {},
     "output_type": "execute_result"
    }
   ],
   "source": [
    "\"Approximately {0:,} people have contributed to the Bernie Sanders campaign through ActBlue.\".format(len(indivs))"
   ]
  },
  {
   "cell_type": "markdown",
   "metadata": {},
   "source": [
    "## Top ZIP Codes Donating To Bernie Sanders\n",
    "\n",
    "*Note*: The Census Bureau reports population figures for geographies known as \"[ZIP Code Tabulation Areas](https://www.census.gov/geo/reference/zctas.html)\"; they don't overlap perfectly with ZIP codes, but they're as close as Census data gets."
   ]
  },
  {
   "cell_type": "code",
   "execution_count": 15,
   "metadata": {
    "collapsed": true
   },
   "outputs": [],
   "source": [
    "zcta_pop = pd.read_csv(\"../data/zcta-population/ACS_14_5YR_B03002_with_ann.csv\", skiprows=1, dtype={\"Id2\": str})"
   ]
  },
  {
   "cell_type": "code",
   "execution_count": 16,
   "metadata": {
    "collapsed": true
   },
   "outputs": [],
   "source": [
    "zcta_counties = pd.read_csv(\"../data/zcta-to-county.csv\", dtype={\"ZCTA5\": str, \"STATE\": str})"
   ]
  },
  {
   "cell_type": "markdown",
   "metadata": {},
   "source": [
    "Some ZIP codes cross state boundaries. The code below finds the main state, by population, associated with any given ZIP Code Tabulation Area."
   ]
  },
  {
   "cell_type": "code",
   "execution_count": 17,
   "metadata": {
    "collapsed": false
   },
   "outputs": [],
   "source": [
    "zcta_states = zcta_counties.groupby([ \"ZCTA5\", \"STATE\" ])[\"ZPOPPCT\"].sum()\\\n",
    "    .reset_index().sort_values(\"ZPOPPCT\", ascending=False)\\\n",
    "    .groupby(\"ZCTA5\")[\"STATE\"]\\\n",
    "    .first().apply(lambda x: us.states.lookup(x).name)"
   ]
  },
  {
   "cell_type": "code",
   "execution_count": 18,
   "metadata": {
    "collapsed": false
   },
   "outputs": [
    {
     "data": {
      "text/plain": [
       "ZCTA5\n",
       "00601    Puerto Rico\n",
       "00602    Puerto Rico\n",
       "00603    Puerto Rico\n",
       "00606    Puerto Rico\n",
       "00610    Puerto Rico\n",
       "Name: STATE, dtype: object"
      ]
     },
     "execution_count": 18,
     "metadata": {},
     "output_type": "execute_result"
    }
   ],
   "source": [
    "zcta_states.head()"
   ]
  },
  {
   "cell_type": "code",
   "execution_count": 19,
   "metadata": {
    "collapsed": false
   },
   "outputs": [],
   "source": [
    "zip_totals = pd.DataFrame({\n",
    "    \"contributors\": indivs.groupby([\"zip\"]).size(),\n",
    "    \"state\": zcta_states,\n",
    "    \"population\": zcta_pop.set_index(\"Id2\")[\"Estimate; Total:\"],\n",
    "}).dropna()"
   ]
  },
  {
   "cell_type": "code",
   "execution_count": 20,
   "metadata": {
    "collapsed": false
   },
   "outputs": [
    {
     "data": {
      "text/html": [
       "<div>\n",
       "<table border=\"1\" class=\"dataframe\">\n",
       "  <thead>\n",
       "    <tr style=\"text-align: right;\">\n",
       "      <th></th>\n",
       "      <th>contributors</th>\n",
       "      <th>population</th>\n",
       "      <th>state</th>\n",
       "    </tr>\n",
       "  </thead>\n",
       "  <tbody>\n",
       "    <tr>\n",
       "      <th>00601</th>\n",
       "      <td>1.0</td>\n",
       "      <td>18088.0</td>\n",
       "      <td>Puerto Rico</td>\n",
       "    </tr>\n",
       "    <tr>\n",
       "      <th>00602</th>\n",
       "      <td>6.0</td>\n",
       "      <td>40859.0</td>\n",
       "      <td>Puerto Rico</td>\n",
       "    </tr>\n",
       "    <tr>\n",
       "      <th>00603</th>\n",
       "      <td>9.0</td>\n",
       "      <td>53162.0</td>\n",
       "      <td>Puerto Rico</td>\n",
       "    </tr>\n",
       "    <tr>\n",
       "      <th>00610</th>\n",
       "      <td>6.0</td>\n",
       "      <td>28805.0</td>\n",
       "      <td>Puerto Rico</td>\n",
       "    </tr>\n",
       "    <tr>\n",
       "      <th>00612</th>\n",
       "      <td>8.0</td>\n",
       "      <td>66251.0</td>\n",
       "      <td>Puerto Rico</td>\n",
       "    </tr>\n",
       "  </tbody>\n",
       "</table>\n",
       "</div>"
      ],
      "text/plain": [
       "       contributors  population        state\n",
       "00601           1.0     18088.0  Puerto Rico\n",
       "00602           6.0     40859.0  Puerto Rico\n",
       "00603           9.0     53162.0  Puerto Rico\n",
       "00610           6.0     28805.0  Puerto Rico\n",
       "00612           8.0     66251.0  Puerto Rico"
      ]
     },
     "execution_count": 20,
     "metadata": {},
     "output_type": "execute_result"
    }
   ],
   "source": [
    "zip_totals.head()"
   ]
  },
  {
   "cell_type": "code",
   "execution_count": 21,
   "metadata": {
    "collapsed": true
   },
   "outputs": [],
   "source": [
    "def calculate_per_capita(row):\n",
    "    if row[\"population\"] == 0: return None\n",
    "    return round(row[\"contributors\"] * 1000.0 / row[\"population\"], 1)"
   ]
  },
  {
   "cell_type": "code",
   "execution_count": 22,
   "metadata": {
    "collapsed": false
   },
   "outputs": [],
   "source": [
    "zip_totals[\"donors_per_1000_people\"] = zip_totals.apply(calculate_per_capita, axis=1)"
   ]
  },
  {
   "cell_type": "markdown",
   "metadata": {},
   "source": [
    "Below is a list of the ZIP codes home to the largest numbers of donors to the Bernie 2016 campaign through ActBlue. The top ZIP code — 05401 — is located in Burlington, VT."
   ]
  },
  {
   "cell_type": "code",
   "execution_count": 23,
   "metadata": {
    "collapsed": false
   },
   "outputs": [
    {
     "data": {
      "text/html": [
       "<div>\n",
       "<table border=\"1\" class=\"dataframe\">\n",
       "  <thead>\n",
       "    <tr style=\"text-align: right;\">\n",
       "      <th></th>\n",
       "      <th>contributors</th>\n",
       "      <th>population</th>\n",
       "      <th>state</th>\n",
       "      <th>donors_per_1000_people</th>\n",
       "    </tr>\n",
       "  </thead>\n",
       "  <tbody>\n",
       "    <tr>\n",
       "      <th>05401</th>\n",
       "      <td>2829.0</td>\n",
       "      <td>28257.0</td>\n",
       "      <td>Vermont</td>\n",
       "      <td>100.1</td>\n",
       "    </tr>\n",
       "    <tr>\n",
       "      <th>94110</th>\n",
       "      <td>2357.0</td>\n",
       "      <td>71422.0</td>\n",
       "      <td>California</td>\n",
       "      <td>33.0</td>\n",
       "    </tr>\n",
       "    <tr>\n",
       "      <th>98103</th>\n",
       "      <td>2126.0</td>\n",
       "      <td>47559.0</td>\n",
       "      <td>Washington</td>\n",
       "      <td>44.7</td>\n",
       "    </tr>\n",
       "    <tr>\n",
       "      <th>10025</th>\n",
       "      <td>2115.0</td>\n",
       "      <td>97373.0</td>\n",
       "      <td>New York</td>\n",
       "      <td>21.7</td>\n",
       "    </tr>\n",
       "    <tr>\n",
       "      <th>11215</th>\n",
       "      <td>2071.0</td>\n",
       "      <td>70156.0</td>\n",
       "      <td>New York</td>\n",
       "      <td>29.5</td>\n",
       "    </tr>\n",
       "    <tr>\n",
       "      <th>60647</th>\n",
       "      <td>1970.0</td>\n",
       "      <td>87339.0</td>\n",
       "      <td>Illinois</td>\n",
       "      <td>22.6</td>\n",
       "    </tr>\n",
       "    <tr>\n",
       "      <th>14850</th>\n",
       "      <td>1796.0</td>\n",
       "      <td>65647.0</td>\n",
       "      <td>New York</td>\n",
       "      <td>27.4</td>\n",
       "    </tr>\n",
       "    <tr>\n",
       "      <th>97202</th>\n",
       "      <td>1743.0</td>\n",
       "      <td>39901.0</td>\n",
       "      <td>Oregon</td>\n",
       "      <td>43.7</td>\n",
       "    </tr>\n",
       "    <tr>\n",
       "      <th>94117</th>\n",
       "      <td>1718.0</td>\n",
       "      <td>42638.0</td>\n",
       "      <td>California</td>\n",
       "      <td>40.3</td>\n",
       "    </tr>\n",
       "    <tr>\n",
       "      <th>97214</th>\n",
       "      <td>1673.0</td>\n",
       "      <td>24673.0</td>\n",
       "      <td>Oregon</td>\n",
       "      <td>67.8</td>\n",
       "    </tr>\n",
       "  </tbody>\n",
       "</table>\n",
       "</div>"
      ],
      "text/plain": [
       "       contributors  population       state  donors_per_1000_people\n",
       "05401        2829.0     28257.0     Vermont                   100.1\n",
       "94110        2357.0     71422.0  California                    33.0\n",
       "98103        2126.0     47559.0  Washington                    44.7\n",
       "10025        2115.0     97373.0    New York                    21.7\n",
       "11215        2071.0     70156.0    New York                    29.5\n",
       "60647        1970.0     87339.0    Illinois                    22.6\n",
       "14850        1796.0     65647.0    New York                    27.4\n",
       "97202        1743.0     39901.0      Oregon                    43.7\n",
       "94117        1718.0     42638.0  California                    40.3\n",
       "97214        1673.0     24673.0      Oregon                    67.8"
      ]
     },
     "execution_count": 23,
     "metadata": {},
     "output_type": "execute_result"
    }
   ],
   "source": [
    "zip_totals.sort_values(\"contributors\", ascending=False).head(10)"
   ]
  },
  {
   "cell_type": "markdown",
   "metadata": {},
   "source": [
    "The next list shows the ZIP codes with the largest number of Sanders donors per capita — excluding ZIP codes in Sanders's home state of Vermont and excluding ZIP codes with fewer than 1,000 residents. The top ZIP code — 81131 — is located in Crestone, Colorado."
   ]
  },
  {
   "cell_type": "code",
   "execution_count": 24,
   "metadata": {
    "collapsed": false
   },
   "outputs": [
    {
     "data": {
      "text/html": [
       "<div>\n",
       "<table border=\"1\" class=\"dataframe\">\n",
       "  <thead>\n",
       "    <tr style=\"text-align: right;\">\n",
       "      <th></th>\n",
       "      <th>contributors</th>\n",
       "      <th>population</th>\n",
       "      <th>state</th>\n",
       "      <th>donors_per_1000_people</th>\n",
       "    </tr>\n",
       "  </thead>\n",
       "  <tbody>\n",
       "    <tr>\n",
       "      <th>81131</th>\n",
       "      <td>107.0</td>\n",
       "      <td>1173.0</td>\n",
       "      <td>Colorado</td>\n",
       "      <td>91.2</td>\n",
       "    </tr>\n",
       "    <tr>\n",
       "      <th>01054</th>\n",
       "      <td>145.0</td>\n",
       "      <td>1836.0</td>\n",
       "      <td>Massachusetts</td>\n",
       "      <td>79.0</td>\n",
       "    </tr>\n",
       "    <tr>\n",
       "      <th>95460</th>\n",
       "      <td>160.0</td>\n",
       "      <td>2338.0</td>\n",
       "      <td>California</td>\n",
       "      <td>68.4</td>\n",
       "    </tr>\n",
       "    <tr>\n",
       "      <th>20005</th>\n",
       "      <td>848.0</td>\n",
       "      <td>12497.0</td>\n",
       "      <td>District of Columbia</td>\n",
       "      <td>67.9</td>\n",
       "    </tr>\n",
       "    <tr>\n",
       "      <th>97214</th>\n",
       "      <td>1673.0</td>\n",
       "      <td>24673.0</td>\n",
       "      <td>Oregon</td>\n",
       "      <td>67.8</td>\n",
       "    </tr>\n",
       "    <tr>\n",
       "      <th>01072</th>\n",
       "      <td>98.0</td>\n",
       "      <td>1482.0</td>\n",
       "      <td>Massachusetts</td>\n",
       "      <td>66.1</td>\n",
       "    </tr>\n",
       "    <tr>\n",
       "      <th>95560</th>\n",
       "      <td>90.0</td>\n",
       "      <td>1374.0</td>\n",
       "      <td>California</td>\n",
       "      <td>65.5</td>\n",
       "    </tr>\n",
       "    <tr>\n",
       "      <th>98262</th>\n",
       "      <td>66.0</td>\n",
       "      <td>1079.0</td>\n",
       "      <td>Washington</td>\n",
       "      <td>61.2</td>\n",
       "    </tr>\n",
       "    <tr>\n",
       "      <th>94933</th>\n",
       "      <td>65.0</td>\n",
       "      <td>1069.0</td>\n",
       "      <td>California</td>\n",
       "      <td>60.8</td>\n",
       "    </tr>\n",
       "    <tr>\n",
       "      <th>94705</th>\n",
       "      <td>763.0</td>\n",
       "      <td>12790.0</td>\n",
       "      <td>California</td>\n",
       "      <td>59.7</td>\n",
       "    </tr>\n",
       "    <tr>\n",
       "      <th>94924</th>\n",
       "      <td>85.0</td>\n",
       "      <td>1434.0</td>\n",
       "      <td>California</td>\n",
       "      <td>59.3</td>\n",
       "    </tr>\n",
       "    <tr>\n",
       "      <th>01060</th>\n",
       "      <td>900.0</td>\n",
       "      <td>15348.0</td>\n",
       "      <td>Massachusetts</td>\n",
       "      <td>58.6</td>\n",
       "    </tr>\n",
       "    <tr>\n",
       "      <th>94956</th>\n",
       "      <td>97.0</td>\n",
       "      <td>1687.0</td>\n",
       "      <td>California</td>\n",
       "      <td>57.5</td>\n",
       "    </tr>\n",
       "    <tr>\n",
       "      <th>87514</th>\n",
       "      <td>59.0</td>\n",
       "      <td>1039.0</td>\n",
       "      <td>New Mexico</td>\n",
       "      <td>56.8</td>\n",
       "    </tr>\n",
       "    <tr>\n",
       "      <th>97232</th>\n",
       "      <td>671.0</td>\n",
       "      <td>11838.0</td>\n",
       "      <td>Oregon</td>\n",
       "      <td>56.7</td>\n",
       "    </tr>\n",
       "    <tr>\n",
       "      <th>01330</th>\n",
       "      <td>90.0</td>\n",
       "      <td>1596.0</td>\n",
       "      <td>Massachusetts</td>\n",
       "      <td>56.4</td>\n",
       "    </tr>\n",
       "    <tr>\n",
       "      <th>12498</th>\n",
       "      <td>267.0</td>\n",
       "      <td>4800.0</td>\n",
       "      <td>New York</td>\n",
       "      <td>55.6</td>\n",
       "    </tr>\n",
       "    <tr>\n",
       "      <th>98261</th>\n",
       "      <td>138.0</td>\n",
       "      <td>2497.0</td>\n",
       "      <td>Washington</td>\n",
       "      <td>55.3</td>\n",
       "    </tr>\n",
       "    <tr>\n",
       "      <th>94708</th>\n",
       "      <td>616.0</td>\n",
       "      <td>11143.0</td>\n",
       "      <td>California</td>\n",
       "      <td>55.3</td>\n",
       "    </tr>\n",
       "    <tr>\n",
       "      <th>94707</th>\n",
       "      <td>684.0</td>\n",
       "      <td>12402.0</td>\n",
       "      <td>California</td>\n",
       "      <td>55.2</td>\n",
       "    </tr>\n",
       "  </tbody>\n",
       "</table>\n",
       "</div>"
      ],
      "text/plain": [
       "       contributors  population                 state  donors_per_1000_people\n",
       "81131         107.0      1173.0              Colorado                    91.2\n",
       "01054         145.0      1836.0         Massachusetts                    79.0\n",
       "95460         160.0      2338.0            California                    68.4\n",
       "20005         848.0     12497.0  District of Columbia                    67.9\n",
       "97214        1673.0     24673.0                Oregon                    67.8\n",
       "01072          98.0      1482.0         Massachusetts                    66.1\n",
       "95560          90.0      1374.0            California                    65.5\n",
       "98262          66.0      1079.0            Washington                    61.2\n",
       "94933          65.0      1069.0            California                    60.8\n",
       "94705         763.0     12790.0            California                    59.7\n",
       "94924          85.0      1434.0            California                    59.3\n",
       "01060         900.0     15348.0         Massachusetts                    58.6\n",
       "94956          97.0      1687.0            California                    57.5\n",
       "87514          59.0      1039.0            New Mexico                    56.8\n",
       "97232         671.0     11838.0                Oregon                    56.7\n",
       "01330          90.0      1596.0         Massachusetts                    56.4\n",
       "12498         267.0      4800.0              New York                    55.6\n",
       "98261         138.0      2497.0            Washington                    55.3\n",
       "94708         616.0     11143.0            California                    55.3\n",
       "94707         684.0     12402.0            California                    55.2"
      ]
     },
     "execution_count": 24,
     "metadata": {},
     "output_type": "execute_result"
    }
   ],
   "source": [
    "zip_totals[\n",
    "    (zip_totals[\"population\"] >= 1000) &\n",
    "    (zip_totals[\"state\"] != \"Vermont\")\n",
    "].sort_values(\"donors_per_1000_people\", ascending=False).head(20)"
   ]
  },
  {
   "cell_type": "code",
   "execution_count": 25,
   "metadata": {
    "collapsed": false
   },
   "outputs": [
    {
     "data": {
      "text/html": [
       "<div>\n",
       "<table border=\"1\" class=\"dataframe\">\n",
       "  <thead>\n",
       "    <tr style=\"text-align: right;\">\n",
       "      <th></th>\n",
       "      <th>contributors</th>\n",
       "      <th>population</th>\n",
       "      <th>state</th>\n",
       "      <th>donors_per_1000_people</th>\n",
       "    </tr>\n",
       "  </thead>\n",
       "  <tbody>\n",
       "    <tr>\n",
       "      <th>94110</th>\n",
       "      <td>2357.0</td>\n",
       "      <td>71422.0</td>\n",
       "      <td>California</td>\n",
       "      <td>33.0</td>\n",
       "    </tr>\n",
       "    <tr>\n",
       "      <th>98103</th>\n",
       "      <td>2126.0</td>\n",
       "      <td>47559.0</td>\n",
       "      <td>Washington</td>\n",
       "      <td>44.7</td>\n",
       "    </tr>\n",
       "    <tr>\n",
       "      <th>10025</th>\n",
       "      <td>2115.0</td>\n",
       "      <td>97373.0</td>\n",
       "      <td>New York</td>\n",
       "      <td>21.7</td>\n",
       "    </tr>\n",
       "    <tr>\n",
       "      <th>11215</th>\n",
       "      <td>2071.0</td>\n",
       "      <td>70156.0</td>\n",
       "      <td>New York</td>\n",
       "      <td>29.5</td>\n",
       "    </tr>\n",
       "    <tr>\n",
       "      <th>60647</th>\n",
       "      <td>1970.0</td>\n",
       "      <td>87339.0</td>\n",
       "      <td>Illinois</td>\n",
       "      <td>22.6</td>\n",
       "    </tr>\n",
       "  </tbody>\n",
       "</table>\n",
       "</div>"
      ],
      "text/plain": [
       "       contributors  population       state  donors_per_1000_people\n",
       "94110        2357.0     71422.0  California                    33.0\n",
       "98103        2126.0     47559.0  Washington                    44.7\n",
       "10025        2115.0     97373.0    New York                    21.7\n",
       "11215        2071.0     70156.0    New York                    29.5\n",
       "60647        1970.0     87339.0    Illinois                    22.6"
      ]
     },
     "execution_count": 25,
     "metadata": {},
     "output_type": "execute_result"
    }
   ],
   "source": [
    "zip_totals[\n",
    "    (zip_totals[\"population\"] >= 1000) &\n",
    "    (zip_totals[\"state\"] != \"Vermont\")\n",
    "].sort_values(\"contributors\", ascending=False).head(5)"
   ]
  },
  {
   "cell_type": "markdown",
   "metadata": {},
   "source": [
    "## Donors Who've Given Most Often"
   ]
  },
  {
   "cell_type": "code",
   "execution_count": 26,
   "metadata": {
    "collapsed": false
   },
   "outputs": [],
   "source": [
    "uid_grps = bernie.groupby(\"donor_uid\")"
   ]
  },
  {
   "cell_type": "code",
   "execution_count": 27,
   "metadata": {
    "collapsed": false
   },
   "outputs": [],
   "source": [
    "indiv_totals = pd.DataFrame({\n",
    "    \"total_donations\": uid_grps.size(),\n",
    "    \"total_amount\": uid_grps[\"amount\"].sum(),\n",
    "    \"city\": uid_grps[\"city\"].first(),\n",
    "    \"state\": uid_grps[\"state\"].first(),\n",
    "    \"employer\": uid_grps[\"employer\"].first(),\n",
    "    \"occupation\": uid_grps[\"occupation\"].first()\n",
    "})"
   ]
  },
  {
   "cell_type": "markdown",
   "metadata": {},
   "source": [
    "Based on the `donor_uid` groupings, 29 people have donated at least 100 times. You'll notice that some of the totals contribution amounts are greater than the FEC maximum allowed contribution of $2,700. The surplus has, or should soon be, refunded to those donors. But because we're interested in the *act of giving*, we've included all contributions here."
   ]
  },
  {
   "cell_type": "code",
   "execution_count": 28,
   "metadata": {
    "collapsed": false
   },
   "outputs": [
    {
     "data": {
      "text/html": [
       "<div>\n",
       "<table border=\"1\" class=\"dataframe\">\n",
       "  <thead>\n",
       "    <tr style=\"text-align: right;\">\n",
       "      <th></th>\n",
       "      <th>city</th>\n",
       "      <th>employer</th>\n",
       "      <th>occupation</th>\n",
       "      <th>state</th>\n",
       "      <th>total_amount</th>\n",
       "      <th>total_donations</th>\n",
       "    </tr>\n",
       "    <tr>\n",
       "      <th>donor_uid</th>\n",
       "      <th></th>\n",
       "      <th></th>\n",
       "      <th></th>\n",
       "      <th></th>\n",
       "      <th></th>\n",
       "      <th></th>\n",
       "    </tr>\n",
       "  </thead>\n",
       "  <tbody>\n",
       "    <tr>\n",
       "      <th>CHRISTOPHER|FLESNER|72120</th>\n",
       "      <td>SHERWOOD</td>\n",
       "      <td>SELF EMPLOYED</td>\n",
       "      <td>PROGRAMMER</td>\n",
       "      <td>AR</td>\n",
       "      <td>1524.23</td>\n",
       "      <td>217</td>\n",
       "    </tr>\n",
       "    <tr>\n",
       "      <th>XITIJ|SHAH|75204</th>\n",
       "      <td>DALLAS</td>\n",
       "      <td>CISCO SYSTEMS, INC.</td>\n",
       "      <td>SYSTEM ENGINEER</td>\n",
       "      <td>TX</td>\n",
       "      <td>2700.00</td>\n",
       "      <td>201</td>\n",
       "    </tr>\n",
       "    <tr>\n",
       "      <th>NICKOLAS|ZACHARIAS|66046</th>\n",
       "      <td>LAWRENCE</td>\n",
       "      <td>PREMIERE</td>\n",
       "      <td>CUSTOMER SERVICE</td>\n",
       "      <td>KS</td>\n",
       "      <td>2231.87</td>\n",
       "      <td>182</td>\n",
       "    </tr>\n",
       "    <tr>\n",
       "      <th>ANGELA|BAILEY|32771</th>\n",
       "      <td>SANFORD</td>\n",
       "      <td>NOT EMPLOYED</td>\n",
       "      <td>NOT EMPLOYED</td>\n",
       "      <td>FL</td>\n",
       "      <td>1221.41</td>\n",
       "      <td>174</td>\n",
       "    </tr>\n",
       "    <tr>\n",
       "      <th>CHI|SEXTON|77450</th>\n",
       "      <td>KATY</td>\n",
       "      <td>MEMORIAL HERMANN</td>\n",
       "      <td>HEALTHCARE ADMIN</td>\n",
       "      <td>TX</td>\n",
       "      <td>2491.87</td>\n",
       "      <td>150</td>\n",
       "    </tr>\n",
       "    <tr>\n",
       "      <th>MUSTAFA|FARIS|78752</th>\n",
       "      <td>AUSTIN</td>\n",
       "      <td>KEYE TV</td>\n",
       "      <td>AUDIO OPERATOR</td>\n",
       "      <td>TX</td>\n",
       "      <td>2187.66</td>\n",
       "      <td>149</td>\n",
       "    </tr>\n",
       "    <tr>\n",
       "      <th>PATRICIA|KELJIK|60056</th>\n",
       "      <td>MOUNT PROSPECT</td>\n",
       "      <td>NONE</td>\n",
       "      <td>NONE</td>\n",
       "      <td>IL</td>\n",
       "      <td>705.00</td>\n",
       "      <td>144</td>\n",
       "    </tr>\n",
       "    <tr>\n",
       "      <th>ROBERT|NUCHOW|87114</th>\n",
       "      <td>ALBUQUERQUE</td>\n",
       "      <td>PRESBYTERIAN HEART GROUP</td>\n",
       "      <td>FRONT DESK SPECIALIST</td>\n",
       "      <td>NM</td>\n",
       "      <td>2883.57</td>\n",
       "      <td>138</td>\n",
       "    </tr>\n",
       "    <tr>\n",
       "      <th>SUSAN|PHILLIPS|53527</th>\n",
       "      <td>COTTAGE GROVE</td>\n",
       "      <td>NONE</td>\n",
       "      <td>NOT EMPLOYED</td>\n",
       "      <td>WI</td>\n",
       "      <td>1758.66</td>\n",
       "      <td>133</td>\n",
       "    </tr>\n",
       "    <tr>\n",
       "      <th>CAITLYN|THOMPSON|75220</th>\n",
       "      <td>DALLAS</td>\n",
       "      <td>STUDENT</td>\n",
       "      <td>NOT EMPLOYED</td>\n",
       "      <td>TX</td>\n",
       "      <td>999.00</td>\n",
       "      <td>133</td>\n",
       "    </tr>\n",
       "    <tr>\n",
       "      <th>MARGARET|TRAWICK|94520</th>\n",
       "      <td>CONCORD</td>\n",
       "      <td>NONE</td>\n",
       "      <td>NOT EMPLOYED</td>\n",
       "      <td>CA</td>\n",
       "      <td>6364.27</td>\n",
       "      <td>133</td>\n",
       "    </tr>\n",
       "    <tr>\n",
       "      <th>J|COLLIAS|27517</th>\n",
       "      <td>CHAPEL HILL</td>\n",
       "      <td>NOT EMPLOYED</td>\n",
       "      <td>NOT EMPLOYED</td>\n",
       "      <td>NC</td>\n",
       "      <td>1562.50</td>\n",
       "      <td>131</td>\n",
       "    </tr>\n",
       "    <tr>\n",
       "      <th>LEONARD|AUSLENDER|90069</th>\n",
       "      <td>WEST HOLLYWOOD</td>\n",
       "      <td>NOT EMPLOYED</td>\n",
       "      <td>NOT EMPLOYED</td>\n",
       "      <td>CA</td>\n",
       "      <td>965.28</td>\n",
       "      <td>127</td>\n",
       "    </tr>\n",
       "    <tr>\n",
       "      <th>DEAN|ROCISSONO|05680</th>\n",
       "      <td>WOLCOTT</td>\n",
       "      <td>NONE</td>\n",
       "      <td>NOT EMPLOYED</td>\n",
       "      <td>VT</td>\n",
       "      <td>788.85</td>\n",
       "      <td>126</td>\n",
       "    </tr>\n",
       "    <tr>\n",
       "      <th>SUZANNE|SEARLE|02026</th>\n",
       "      <td>DEDHAM</td>\n",
       "      <td>FED GOVT</td>\n",
       "      <td>VA ADMIN</td>\n",
       "      <td>MA</td>\n",
       "      <td>4099.61</td>\n",
       "      <td>126</td>\n",
       "    </tr>\n",
       "    <tr>\n",
       "      <th>D CALDWELL|JONES|99835</th>\n",
       "      <td>SITKA</td>\n",
       "      <td>NOT EMPLOYED</td>\n",
       "      <td>NOT EMPLOYED</td>\n",
       "      <td>AK</td>\n",
       "      <td>1840.00</td>\n",
       "      <td>124</td>\n",
       "    </tr>\n",
       "    <tr>\n",
       "      <th>JEREMIAH|SMITH|28120</th>\n",
       "      <td>MT HOLLY</td>\n",
       "      <td>CRMC</td>\n",
       "      <td>PHARMACIST</td>\n",
       "      <td>NC</td>\n",
       "      <td>775.50</td>\n",
       "      <td>120</td>\n",
       "    </tr>\n",
       "    <tr>\n",
       "      <th>FLORENCE|VINCENT|98576</th>\n",
       "      <td>RAINIER</td>\n",
       "      <td>NOT EMPLOYED</td>\n",
       "      <td>NOT EMPLOYED</td>\n",
       "      <td>WA</td>\n",
       "      <td>2492.75</td>\n",
       "      <td>120</td>\n",
       "    </tr>\n",
       "    <tr>\n",
       "      <th>EUGENE|ZENZEN|48152</th>\n",
       "      <td>LIVONIA</td>\n",
       "      <td>SELF</td>\n",
       "      <td>MUSICIAN</td>\n",
       "      <td>MI</td>\n",
       "      <td>1266.00</td>\n",
       "      <td>115</td>\n",
       "    </tr>\n",
       "    <tr>\n",
       "      <th>KATHERINE|MERRELL|95403</th>\n",
       "      <td>SANTA ROSA</td>\n",
       "      <td>NOT EMPLOYED</td>\n",
       "      <td>NOT EMPLOYED</td>\n",
       "      <td>CA</td>\n",
       "      <td>2755.81</td>\n",
       "      <td>112</td>\n",
       "    </tr>\n",
       "    <tr>\n",
       "      <th>SUSAN|PEZZINO|60611</th>\n",
       "      <td>CHICAGO</td>\n",
       "      <td>SELF</td>\n",
       "      <td>LINGUIST</td>\n",
       "      <td>IL</td>\n",
       "      <td>1469.14</td>\n",
       "      <td>111</td>\n",
       "    </tr>\n",
       "    <tr>\n",
       "      <th>ALAN|MCLEMORE|77706</th>\n",
       "      <td>BEAUMONT</td>\n",
       "      <td>SELF</td>\n",
       "      <td>ATTORNEY</td>\n",
       "      <td>TX</td>\n",
       "      <td>2818.50</td>\n",
       "      <td>105</td>\n",
       "    </tr>\n",
       "    <tr>\n",
       "      <th>MARLYN|MCLENNAN|92103</th>\n",
       "      <td>SAN DIEGO</td>\n",
       "      <td>NONE</td>\n",
       "      <td>NOT EMPLOYED</td>\n",
       "      <td>CA</td>\n",
       "      <td>1328.72</td>\n",
       "      <td>105</td>\n",
       "    </tr>\n",
       "    <tr>\n",
       "      <th>BIRTHE|FILBY|03835</th>\n",
       "      <td>FARMINGTON</td>\n",
       "      <td>NOT EMPLOYED</td>\n",
       "      <td>NOT EMPLOYED</td>\n",
       "      <td>NH</td>\n",
       "      <td>637.50</td>\n",
       "      <td>103</td>\n",
       "    </tr>\n",
       "    <tr>\n",
       "      <th>JEREMY|ABRAMOWITZ|23185</th>\n",
       "      <td>WILLIAMSBURG</td>\n",
       "      <td>COLLEGE OF WILLIAM &amp; MARY</td>\n",
       "      <td>STUDENT</td>\n",
       "      <td>VA</td>\n",
       "      <td>2935.00</td>\n",
       "      <td>102</td>\n",
       "    </tr>\n",
       "    <tr>\n",
       "      <th>JOSEPH|SPEAR|94602</th>\n",
       "      <td>BERKELEY</td>\n",
       "      <td>PLANT SUPPLY STORE</td>\n",
       "      <td>RETAIL</td>\n",
       "      <td>CA</td>\n",
       "      <td>375.44</td>\n",
       "      <td>100</td>\n",
       "    </tr>\n",
       "    <tr>\n",
       "      <th>PAT|GETZ-PREZIOSI|06517</th>\n",
       "      <td>HAMDEN</td>\n",
       "      <td>SELF</td>\n",
       "      <td>ART HISTORIAN</td>\n",
       "      <td>CT</td>\n",
       "      <td>1122.84</td>\n",
       "      <td>100</td>\n",
       "    </tr>\n",
       "    <tr>\n",
       "      <th>BRIAN|ZELLMAN|55432</th>\n",
       "      <td>MINNEAPOLIS</td>\n",
       "      <td>APPLEONE</td>\n",
       "      <td>SHIPPING &amp; RECEIVING</td>\n",
       "      <td>MN</td>\n",
       "      <td>777.34</td>\n",
       "      <td>100</td>\n",
       "    </tr>\n",
       "    <tr>\n",
       "      <th>MARIAN|ROSSON|94596</th>\n",
       "      <td>WALNUT CREEK</td>\n",
       "      <td>NOT EMPLOYED</td>\n",
       "      <td>NOT EMPLOYED</td>\n",
       "      <td>CA</td>\n",
       "      <td>784.50</td>\n",
       "      <td>100</td>\n",
       "    </tr>\n",
       "  </tbody>\n",
       "</table>\n",
       "</div>"
      ],
      "text/plain": [
       "                                     city                   employer  \\\n",
       "donor_uid                                                              \n",
       "CHRISTOPHER|FLESNER|72120        SHERWOOD              SELF EMPLOYED   \n",
       "XITIJ|SHAH|75204                   DALLAS        CISCO SYSTEMS, INC.   \n",
       "NICKOLAS|ZACHARIAS|66046         LAWRENCE                   PREMIERE   \n",
       "ANGELA|BAILEY|32771               SANFORD               NOT EMPLOYED   \n",
       "CHI|SEXTON|77450                     KATY           MEMORIAL HERMANN   \n",
       "MUSTAFA|FARIS|78752                AUSTIN                    KEYE TV   \n",
       "PATRICIA|KELJIK|60056      MOUNT PROSPECT                       NONE   \n",
       "ROBERT|NUCHOW|87114           ALBUQUERQUE   PRESBYTERIAN HEART GROUP   \n",
       "SUSAN|PHILLIPS|53527        COTTAGE GROVE                       NONE   \n",
       "CAITLYN|THOMPSON|75220             DALLAS                    STUDENT   \n",
       "MARGARET|TRAWICK|94520            CONCORD                       NONE   \n",
       "J|COLLIAS|27517               CHAPEL HILL               NOT EMPLOYED   \n",
       "LEONARD|AUSLENDER|90069    WEST HOLLYWOOD               NOT EMPLOYED   \n",
       "DEAN|ROCISSONO|05680              WOLCOTT                       NONE   \n",
       "SUZANNE|SEARLE|02026               DEDHAM                   FED GOVT   \n",
       "D CALDWELL|JONES|99835              SITKA               NOT EMPLOYED   \n",
       "JEREMIAH|SMITH|28120             MT HOLLY                       CRMC   \n",
       "FLORENCE|VINCENT|98576            RAINIER               NOT EMPLOYED   \n",
       "EUGENE|ZENZEN|48152               LIVONIA                       SELF   \n",
       "KATHERINE|MERRELL|95403        SANTA ROSA               NOT EMPLOYED   \n",
       "SUSAN|PEZZINO|60611               CHICAGO                       SELF   \n",
       "ALAN|MCLEMORE|77706              BEAUMONT                       SELF   \n",
       "MARLYN|MCLENNAN|92103           SAN DIEGO                       NONE   \n",
       "BIRTHE|FILBY|03835             FARMINGTON               NOT EMPLOYED   \n",
       "JEREMY|ABRAMOWITZ|23185      WILLIAMSBURG  COLLEGE OF WILLIAM & MARY   \n",
       "JOSEPH|SPEAR|94602               BERKELEY         PLANT SUPPLY STORE   \n",
       "PAT|GETZ-PREZIOSI|06517            HAMDEN                       SELF   \n",
       "BRIAN|ZELLMAN|55432           MINNEAPOLIS                   APPLEONE   \n",
       "MARIAN|ROSSON|94596          WALNUT CREEK               NOT EMPLOYED   \n",
       "\n",
       "                                      occupation state  total_amount  \\\n",
       "donor_uid                                                              \n",
       "CHRISTOPHER|FLESNER|72120             PROGRAMMER    AR       1524.23   \n",
       "XITIJ|SHAH|75204                 SYSTEM ENGINEER    TX       2700.00   \n",
       "NICKOLAS|ZACHARIAS|66046        CUSTOMER SERVICE    KS       2231.87   \n",
       "ANGELA|BAILEY|32771                 NOT EMPLOYED    FL       1221.41   \n",
       "CHI|SEXTON|77450                HEALTHCARE ADMIN    TX       2491.87   \n",
       "MUSTAFA|FARIS|78752               AUDIO OPERATOR    TX       2187.66   \n",
       "PATRICIA|KELJIK|60056                       NONE    IL        705.00   \n",
       "ROBERT|NUCHOW|87114        FRONT DESK SPECIALIST    NM       2883.57   \n",
       "SUSAN|PHILLIPS|53527                NOT EMPLOYED    WI       1758.66   \n",
       "CAITLYN|THOMPSON|75220              NOT EMPLOYED    TX        999.00   \n",
       "MARGARET|TRAWICK|94520              NOT EMPLOYED    CA       6364.27   \n",
       "J|COLLIAS|27517                     NOT EMPLOYED    NC       1562.50   \n",
       "LEONARD|AUSLENDER|90069             NOT EMPLOYED    CA        965.28   \n",
       "DEAN|ROCISSONO|05680                NOT EMPLOYED    VT        788.85   \n",
       "SUZANNE|SEARLE|02026                    VA ADMIN    MA       4099.61   \n",
       "D CALDWELL|JONES|99835              NOT EMPLOYED    AK       1840.00   \n",
       "JEREMIAH|SMITH|28120                  PHARMACIST    NC        775.50   \n",
       "FLORENCE|VINCENT|98576              NOT EMPLOYED    WA       2492.75   \n",
       "EUGENE|ZENZEN|48152                     MUSICIAN    MI       1266.00   \n",
       "KATHERINE|MERRELL|95403             NOT EMPLOYED    CA       2755.81   \n",
       "SUSAN|PEZZINO|60611                     LINGUIST    IL       1469.14   \n",
       "ALAN|MCLEMORE|77706                     ATTORNEY    TX       2818.50   \n",
       "MARLYN|MCLENNAN|92103               NOT EMPLOYED    CA       1328.72   \n",
       "BIRTHE|FILBY|03835                  NOT EMPLOYED    NH        637.50   \n",
       "JEREMY|ABRAMOWITZ|23185                  STUDENT    VA       2935.00   \n",
       "JOSEPH|SPEAR|94602                        RETAIL    CA        375.44   \n",
       "PAT|GETZ-PREZIOSI|06517            ART HISTORIAN    CT       1122.84   \n",
       "BRIAN|ZELLMAN|55432         SHIPPING & RECEIVING    MN        777.34   \n",
       "MARIAN|ROSSON|94596                 NOT EMPLOYED    CA        784.50   \n",
       "\n",
       "                           total_donations  \n",
       "donor_uid                                   \n",
       "CHRISTOPHER|FLESNER|72120              217  \n",
       "XITIJ|SHAH|75204                       201  \n",
       "NICKOLAS|ZACHARIAS|66046               182  \n",
       "ANGELA|BAILEY|32771                    174  \n",
       "CHI|SEXTON|77450                       150  \n",
       "MUSTAFA|FARIS|78752                    149  \n",
       "PATRICIA|KELJIK|60056                  144  \n",
       "ROBERT|NUCHOW|87114                    138  \n",
       "SUSAN|PHILLIPS|53527                   133  \n",
       "CAITLYN|THOMPSON|75220                 133  \n",
       "MARGARET|TRAWICK|94520                 133  \n",
       "J|COLLIAS|27517                        131  \n",
       "LEONARD|AUSLENDER|90069                127  \n",
       "DEAN|ROCISSONO|05680                   126  \n",
       "SUZANNE|SEARLE|02026                   126  \n",
       "D CALDWELL|JONES|99835                 124  \n",
       "JEREMIAH|SMITH|28120                   120  \n",
       "FLORENCE|VINCENT|98576                 120  \n",
       "EUGENE|ZENZEN|48152                    115  \n",
       "KATHERINE|MERRELL|95403                112  \n",
       "SUSAN|PEZZINO|60611                    111  \n",
       "ALAN|MCLEMORE|77706                    105  \n",
       "MARLYN|MCLENNAN|92103                  105  \n",
       "BIRTHE|FILBY|03835                     103  \n",
       "JEREMY|ABRAMOWITZ|23185                102  \n",
       "JOSEPH|SPEAR|94602                     100  \n",
       "PAT|GETZ-PREZIOSI|06517                100  \n",
       "BRIAN|ZELLMAN|55432                    100  \n",
       "MARIAN|ROSSON|94596                    100  "
      ]
     },
     "execution_count": 28,
     "metadata": {},
     "output_type": "execute_result"
    }
   ],
   "source": [
    "indiv_totals[\n",
    "    indiv_totals[\"total_donations\"] >= 100\n",
    "].sort_values(\"total_donations\", ascending=False)"
   ]
  },
  {
   "cell_type": "code",
   "execution_count": 29,
   "metadata": {
    "collapsed": false
   },
   "outputs": [
    {
     "data": {
      "text/plain": [
       "CA    6\n",
       "TX    5\n",
       "Name: state, dtype: int64"
      ]
     },
     "execution_count": 29,
     "metadata": {},
     "output_type": "execute_result"
    }
   ],
   "source": [
    "indiv_totals[\n",
    "    indiv_totals[\"total_donations\"] >= 100\n",
    "].state.value_counts()[:2]"
   ]
  },
  {
   "cell_type": "markdown",
   "metadata": {},
   "source": [
    "## Additional Donor Characteristics"
   ]
  },
  {
   "cell_type": "code",
   "execution_count": 30,
   "metadata": {
    "collapsed": false
   },
   "outputs": [
    {
     "name": "stdout",
     "output_type": "stream",
     "text": [
      "Approximately 53.4% of Bernie Sanders donors have donated once.\n"
     ]
    }
   ],
   "source": [
    "print(\"Approximately {0:.1f}% of Bernie Sanders donors have donated once.\"\\\n",
    "        .format(100 * len(indiv_totals[indiv_totals[\"total_donations\"] == 1]) / float(len(indiv_totals))))"
   ]
  },
  {
   "cell_type": "code",
   "execution_count": 31,
   "metadata": {
    "collapsed": false
   },
   "outputs": [
    {
     "name": "stdout",
     "output_type": "stream",
     "text": [
      "The average amount of a one-time donor to Bernie Sanders through ActBlue was $33.40.\n"
     ]
    }
   ],
   "source": [
    "print(\"The average amount of a one-time donor to Bernie Sanders through ActBlue was ${0:.2f}.\"\\\n",
    "      .format(indiv_totals[indiv_totals[\"total_donations\"] == 1][\"total_amount\"].mean()))"
   ]
  },
  {
   "cell_type": "code",
   "execution_count": 32,
   "metadata": {
    "collapsed": false
   },
   "outputs": [
    {
     "name": "stdout",
     "output_type": "stream",
     "text": [
      "Approximately 91.9% of Bernie Sanders donors have given fewer than $200.\n"
     ]
    }
   ],
   "source": [
    "print(\"Approximately {0:.1f}% of Bernie Sanders donors have given fewer than $200.\"\\\n",
    "      .format(100 * len(indiv_totals[indiv_totals[\"total_amount\"] < 200]) / float(len(indiv_totals))))"
   ]
  },
  {
   "cell_type": "code",
   "execution_count": 33,
   "metadata": {
    "collapsed": false
   },
   "outputs": [
    {
     "name": "stdout",
     "output_type": "stream",
     "text": [
      "The average amount of a donation to Bernie Sanders through ActBlue was $26.87.\n"
     ]
    }
   ],
   "source": [
    "print(\"The average amount of a donation to Bernie Sanders through ActBlue was ${0:.2f}.\"\\\n",
    "      .format(bernie.amount.mean()))"
   ]
  },
  {
   "cell_type": "markdown",
   "metadata": {},
   "source": [
    "**Most Common Donation Amounts**"
   ]
  },
  {
   "cell_type": "code",
   "execution_count": 34,
   "metadata": {
    "collapsed": false
   },
   "outputs": [
    {
     "data": {
      "image/png": "[encoded data removed]",
      "text/plain": [
       "<matplotlib.figure.Figure at 0x119b2f950>"
      ]
     },
     "metadata": {},
     "output_type": "display_data"
    }
   ],
   "source": [
    "ax = bernie.amount.value_counts().head(10).plot(kind=\"bar\", figsize=(10, 6))\n",
    "ax.set_title(\"Most Common Donation Amounts To Bernie Sanders Through ActBlue\")\n",
    "ax.set_ylabel(\"Number of Donations\")\n",
    "ax.set_xlabel(\"Dollar Amount\")\n",
    "pass"
   ]
  },
  {
   "cell_type": "markdown",
   "metadata": {},
   "source": [
    "## Total Contributions By Day"
   ]
  },
  {
   "cell_type": "code",
   "execution_count": 35,
   "metadata": {
    "collapsed": true
   },
   "outputs": [],
   "source": [
    "contributions_by_date = bernie.groupby(\"date\")[\"amount\"].sum()"
   ]
  },
  {
   "cell_type": "code",
   "execution_count": 36,
   "metadata": {
    "collapsed": false
   },
   "outputs": [
    {
     "data": {
      "image/png": "[encoded data removed]",
      "text/plain": [
       "<matplotlib.figure.Figure at 0x165620390>"
      ]
     },
     "metadata": {},
     "output_type": "display_data"
    }
   ],
   "source": [
    "ax = contributions_by_date.plot(c=\"b\", lw=2, figsize=(10, 6))\n",
    "ax.set_xlabel(\"Date\")\n",
    "ax.set_ylabel(\"Amount Raised Through ActBlue\")\n",
    "ax.set_title(\"Amount Raised On ActBlue By Sanders 2016 By Day\")\n",
    "pass"
   ]
  },
  {
   "cell_type": "markdown",
   "metadata": {},
   "source": [
    "Dates with the most total contributions:"
   ]
  },
  {
   "cell_type": "code",
   "execution_count": 37,
   "metadata": {
    "collapsed": false
   },
   "outputs": [
    {
     "data": {
      "text/plain": [
       "date\n",
       "2016-02-29    5234507.21\n",
       "2016-02-10    5183185.22\n",
       "2016-02-02    2938250.97\n",
       "2015-12-31    2578982.93\n",
       "2016-02-09    2179594.38\n",
       "2016-01-29    2015977.79\n",
       "2015-09-30    1793905.81\n",
       "2016-02-28    1564612.35\n",
       "2016-02-23    1457119.48\n",
       "2016-02-20    1400264.61\n",
       "2016-02-26    1349708.33\n",
       "2015-12-16    1326367.29\n",
       "2016-02-11    1291719.37\n",
       "2016-02-12    1282912.12\n",
       "2016-02-27    1227832.34\n",
       "2016-01-28    1207215.43\n",
       "2015-12-30    1168453.26\n",
       "2016-02-24    1128312.36\n",
       "2016-02-21    1113899.27\n",
       "2016-01-27    1102945.53\n",
       "2015-06-30    1087371.21\n",
       "2016-01-30    1043235.70\n",
       "2015-04-30    1032039.37\n",
       "2016-02-16    1004262.26\n",
       "2016-01-31     981349.64\n",
       "Name: amount, dtype: float64"
      ]
     },
     "execution_count": 37,
     "metadata": {},
     "output_type": "execute_result"
    }
   ],
   "source": [
    "contributions_by_date.sort_values(ascending=False).head(25).round(2)"
   ]
  },
  {
   "cell_type": "markdown",
   "metadata": {},
   "source": [
    "## New Donors By Day\n",
    "\n",
    "The code below estimates the number of donors each day who *appear* (see caveat above about the lack of consistent, unique identifiers) to be giving to Sanders's presidential campaign for the first time."
   ]
  },
  {
   "cell_type": "code",
   "execution_count": 38,
   "metadata": {
    "collapsed": false
   },
   "outputs": [],
   "source": [
    "new_donors_by_date = bernie.sort_values(\"date\")\\\n",
    "    .groupby(\"donor_uid\")[\"date\"].first()\\\n",
    "    .value_counts()"
   ]
  },
  {
   "cell_type": "code",
   "execution_count": 39,
   "metadata": {
    "collapsed": false
   },
   "outputs": [
    {
     "data": {
      "text/plain": [
       "2015-04-30    23250\n",
       "2015-05-01    14537\n",
       "2015-05-02    15881\n",
       "2015-05-03     7220\n",
       "2015-05-04     5271\n",
       "Name: date, dtype: int64"
      ]
     },
     "execution_count": 39,
     "metadata": {},
     "output_type": "execute_result"
    }
   ],
   "source": [
    "new_donors_by_date.sort_index().head()"
   ]
  },
  {
   "cell_type": "code",
   "execution_count": 40,
   "metadata": {
    "collapsed": false
   },
   "outputs": [
    {
     "data": {
      "image/png": "[encoded data removed]",
      "text/plain": [
       "<matplotlib.figure.Figure at 0x115e99a10>"
      ]
     },
     "metadata": {},
     "output_type": "display_data"
    }
   ],
   "source": [
    "ax = new_donors_by_date.plot(color=\"b\", lw=2, figsize=(10, 6))\n",
    "ax.set_xlabel(\"Date\")\n",
    "ax.set_ylabel(\"Number of New Donors\")\n",
    "ax.set_title(\"New Bernie Sanders ActBlue Donors By Day\")\n",
    "pass"
   ]
  },
  {
   "cell_type": "markdown",
   "metadata": {},
   "source": [
    "-------------------------\n",
    "\n",
    "-------------------------"
   ]
  }
 ],
 "metadata": {
  "kernelspec": {
   "display_name": "Python 2",
   "language": "python",
   "name": "python2"
  },
  "language_info": {
   "codemirror_mode": {
    "name": "ipython",
    "version": 2
   },
   "file_extension": ".py",
   "mimetype": "text/x-python",
   "name": "python",
   "nbconvert_exporter": "python",
   "pygments_lexer": "ipython2",
   "version": "2.7.9"
  }
 },
 "nbformat": 4,
 "nbformat_minor": 0
}
